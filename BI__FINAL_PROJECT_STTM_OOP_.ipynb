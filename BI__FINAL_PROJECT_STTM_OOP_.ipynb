{
  "cells": [
    {
      "cell_type": "markdown",
      "metadata": {
        "id": "view-in-github",
        "colab_type": "text"
      },
      "source": [
        "<a href=\"https://colab.research.google.com/github/TomCaspi/Bi-Project/blob/main/BI__FINAL_PROJECT_STTM_OOP_.ipynb\" target=\"_parent\"><img src=\"https://colab.research.google.com/assets/colab-badge.svg\" alt=\"Open In Colab\"/></a>"
      ]
    },
    {
      "cell_type": "code",
      "execution_count": 121,
      "id": "f5558d7b",
      "metadata": {
        "colab": {
          "base_uri": "https://localhost:8080/"
        },
        "id": "f5558d7b",
        "outputId": "31a25753-dd53-40c8-f3d3-0c99d9cee5be"
      },
      "outputs": [
        {
          "output_type": "stream",
          "name": "stdout",
          "text": [
            "Requirement already satisfied: jsonpath_ng in /usr/local/lib/python3.10/dist-packages (1.5.3)\n",
            "Requirement already satisfied: ply in /usr/local/lib/python3.10/dist-packages (from jsonpath_ng) (3.11)\n",
            "Requirement already satisfied: decorator in /usr/local/lib/python3.10/dist-packages (from jsonpath_ng) (4.4.2)\n",
            "Requirement already satisfied: six in /usr/local/lib/python3.10/dist-packages (from jsonpath_ng) (1.16.0)\n"
          ]
        }
      ],
      "source": [
        "!pip install jsonpath_ng"
      ]
    },
    {
      "cell_type": "code",
      "execution_count": 122,
      "id": "3921b280",
      "metadata": {
        "id": "3921b280"
      },
      "outputs": [],
      "source": [
        "import os\n",
        "import json\n",
        "import numpy as np\n",
        "import pandas as pd\n",
        "import sqlite3\n",
        "import functools as ft\n",
        "import matplotlib.pyplot as plt\n",
        "from abc import ABC, abstractmethod\n",
        "from jsonpath_ng import parse\n",
        "from enum import Enum\n",
        "%matplotlib inline"
      ]
    },
    {
      "cell_type": "markdown",
      "id": "2665d8aa",
      "metadata": {
        "id": "2665d8aa"
      },
      "source": [
        "# Source to Target Mapping - OOP Approach for Single Table"
      ]
    },
    {
      "cell_type": "code",
      "source": [
        "police = pd.read_excel('BIDataForColab.xlsx')"
      ],
      "metadata": {
        "id": "wChh9FOHhPvU"
      },
      "id": "wChh9FOHhPvU",
      "execution_count": 123,
      "outputs": []
    },
    {
      "cell_type": "markdown",
      "id": "8b39940a",
      "metadata": {
        "id": "8b39940a"
      },
      "source": [
        "### Data"
      ]
    },
    {
      "cell_type": "code",
      "execution_count": 124,
      "id": "9b9fdbe2",
      "metadata": {
        "colab": {
          "base_uri": "https://localhost:8080/"
        },
        "id": "9b9fdbe2",
        "outputId": "09232c99-75b0-4a90-91a8-7347752ad70d"
      },
      "outputs": [
        {
          "output_type": "execute_result",
          "data": {
            "text/plain": [
              "[{'id': 'CA-2013-0000001',\n",
              "  'state': 'CA',\n",
              "  'stop_date': 1356998400000,\n",
              "  'stop_time': None,\n",
              "  'location_raw': 'San Diego',\n",
              "  'county_name': 'San Diego County',\n",
              "  'county_fips': 6073.0,\n",
              "  'fine_grained_location': None,\n",
              "  'police_department': None,\n",
              "  'driver_gender': 'M',\n",
              "  'driver_age_raw': '25-32',\n",
              "  'driver_age': None,\n",
              "  'driver_race_raw': 'Hispanic',\n",
              "  'driver_race': 'Hispanic',\n",
              "  'violation_raw': 'Mechanical or Nonmoving Violation (VC)',\n",
              "  'violation': 'Equipment',\n",
              "  'search_conducted': False,\n",
              "  'search_type_raw': 'No Search',\n",
              "  'search_type': None,\n",
              "  'contraband_found': 0.0,\n",
              "  'stop_outcome': 'CHP 215',\n",
              "  'is_arrested': False,\n",
              "  'ethnicity': 'H'}]"
            ]
          },
          "metadata": {},
          "execution_count": 124
        }
      ],
      "source": [
        "police.to_json('output_file.json', orient='records')\n",
        "with open('output_file.json', 'r') as file:\n",
        "    data = json.load(file)\n",
        "    for item in data:\n",
        "      item[\"driver_age_raw\"]=str(item[\"driver_age_raw\"])\n",
        "data [:1]"
      ]
    },
    {
      "cell_type": "markdown",
      "id": "eaea4a93",
      "metadata": {
        "id": "eaea4a93"
      },
      "source": [
        "###  Abstract Base Calss (ABC) for mutual methods"
      ]
    },
    {
      "cell_type": "code",
      "execution_count": 125,
      "id": "c547de69",
      "metadata": {
        "id": "c547de69"
      },
      "outputs": [],
      "source": [
        "class Interface(ABC):\n",
        "\n",
        "    @abstractmethod\n",
        "    def get_data_by_field(self, field_name):\n",
        "        \"\"\"Fetch the data by given feild name \"\"\"\n",
        "\n",
        "    @abstractmethod\n",
        "    def get_data_by_id(self, id):\n",
        "        \"\"\"Fetch the data by given ID  \"\"\"\n",
        "\n",
        "    @abstractmethod\n",
        "    def get(self):\n",
        "        \"\"\"Fetch all data \"\"\""
      ]
    },
    {
      "cell_type": "markdown",
      "id": "9954a470",
      "metadata": {
        "id": "9954a470"
      },
      "source": [
        "### Transform Operations\n",
        "inherithed from Enum - class that automatic enumrate the variables"
      ]
    },
    {
      "cell_type": "code",
      "execution_count": 126,
      "id": "8bb25a7d",
      "metadata": {
        "id": "8bb25a7d"
      },
      "outputs": [],
      "source": [
        "class TransformMask(Enum):\n",
        "    # add here any masks you want\n",
        "    CLEAN_STRING = \".strip().lower()\"\n",
        "    CAPITAL_LETTER = \".strip().lower().title()\"\n"
      ]
    },
    {
      "cell_type": "markdown",
      "id": "72525d22",
      "metadata": {
        "id": "72525d22"
      },
      "source": [
        "### Database Class - Define Common Properties for Source, Target, Mapping"
      ]
    },
    {
      "cell_type": "code",
      "execution_count": 127,
      "id": "800161b9",
      "metadata": {
        "id": "800161b9"
      },
      "outputs": [],
      "source": [
        "class Database:\n",
        "    def __init__(self):\n",
        "        self.db = {\n",
        "            \"source\": [],\n",
        "            \"destination\" : [],\n",
        "            \"transform\" : [],\n",
        "            \"mapping\" : []\n",
        "        }\n",
        "\n",
        "        self.add_source(1,'id',\"str\")\n",
        "        self.add_source(2,'id',\"str\")\n",
        "        self.add_destination(1,\"id\",\"str\")\n",
        "\n",
        "        self.add_transform(1,'CLEAN_STRING')\n",
        "        self.add_transform(2,'CAPITAL_LETTER')\n",
        "\n",
        "        #self.add_mapping(1,1,1,2)\n",
        "        #self.add_mapping(1,1,1,3)\n",
        "\n",
        "\n",
        "    def add_source(self,id, field,ty):\n",
        "        if ty not in [\"str\"]:\n",
        "          print(\"Error source.\")\n",
        "        self.db[\"source\"].append( {\"id\": id,\n",
        "        \"source_field_name\":field ,\n",
        "          \"source_field_mapping\": \"$.\"+field,\n",
        "          \"source_field_type\": ty, # use python types\n",
        "          \"is_required\": True})\n",
        "\n",
        "\n",
        "    def add_destination(self,id, field,ty):\n",
        "        if ty not in [\"BOOL\",\"str\"]:\n",
        "          print(\"Error destination.\")\n",
        "        self.db[\"destination\"].append(\n",
        "            {         \"id\": id,\n",
        "                      \"destination_field_name\": field,\n",
        "                      \"destination_field_mapping\": field,\n",
        "                      \"destination_field_type\": ty,\n",
        "                      \"default_value\": \"n/a\",\n",
        "                  })\n",
        "\n",
        "\n",
        "    def add_transform(self,id, transform_mask):\n",
        "        self.db[\"transform\"].append({\n",
        "                      \"id\": id,\n",
        "                      \"transform_mask\": transform_mask\n",
        "                  })\n",
        "\n",
        "\n",
        "    def add_mapping(self,id, mapping_source,mapping_destination,mapping_transform):\n",
        "        self.db[\"mapping\"].append({\n",
        "                      \"id\": id,\n",
        "                      \"mapping_source\": mapping_source,\n",
        "                      \"mapping_destination\": mapping_destination,\n",
        "                      \"mapping_transform\": mapping_transform\n",
        "                  })\n",
        "\n",
        "    @property\n",
        "    def get_data_source_target_mapping(self):\n",
        "        return self.db\n"
      ]
    },
    {
      "cell_type": "markdown",
      "id": "f478eaee",
      "metadata": {
        "id": "f478eaee"
      },
      "source": [
        "### Source class\n",
        "\n",
        "Inherited from Interface for the common methods and from Database for common variables"
      ]
    },
    {
      "cell_type": "code",
      "execution_count": 128,
      "id": "a1922948",
      "metadata": {
        "id": "a1922948"
      },
      "outputs": [],
      "source": [
        "class Source(Interface, Database):\n",
        "    def __init__(self):\n",
        "        Database.__init__(self)\n",
        "\n",
        "    # should be implemented - inherited from Interface\n",
        "    def get_data_by_field(self, field_name):\n",
        "        data = self.get\n",
        "        for item in data:\n",
        "            for key, value in item.items():\n",
        "                if key == field_name:\n",
        "                    return item\n",
        "        return None\n",
        "\n",
        "    @property\n",
        "    def get(self):\n",
        "        return self.get_data_source_target_mapping.get(\"source\")\n",
        "\n",
        "    def get_data_by_id(self, id):\n",
        "        self.id = id\n",
        "        data = self.get\n",
        "        for x in data:\n",
        "            if x.get(\"id\") == self.id:\n",
        "                return x\n",
        "        return None"
      ]
    },
    {
      "cell_type": "markdown",
      "id": "0cce51b4",
      "metadata": {
        "id": "0cce51b4"
      },
      "source": [
        "### Target class\n",
        "\n",
        "Inherited from Interface for the common methods and from Database for common variables"
      ]
    },
    {
      "cell_type": "code",
      "execution_count": 129,
      "id": "998193f3",
      "metadata": {
        "id": "998193f3"
      },
      "outputs": [],
      "source": [
        "class Target(Interface, Database):\n",
        "\n",
        "    def __init__(self):\n",
        "        Database.__init__(self)\n",
        "\n",
        "    # should be implemented - inherited from Interface\n",
        "    def get_data_by_field(self, field_name):\n",
        "        data = self.get\n",
        "        for item in data:\n",
        "            for key, value in item.items():\n",
        "                if key == field_name:\n",
        "                    return item\n",
        "        return None\n",
        "\n",
        "    @property\n",
        "    def get(self):\n",
        "        return self.get_data_source_target_mapping.get(\"destination\")\n",
        "\n",
        "    def get_data_by_id(self, id):\n",
        "        self.id = id\n",
        "        data = self.get\n",
        "        for x in data:\n",
        "            if x.get(\"id\").__str__() == self.id.__str__():\n",
        "                return x\n",
        "        return None"
      ]
    },
    {
      "cell_type": "markdown",
      "id": "4806c5ce",
      "metadata": {
        "id": "4806c5ce"
      },
      "source": [
        "### Transform Class\n",
        "\n",
        "Inherited from Interface for the common methods and from Database for common variables"
      ]
    },
    {
      "cell_type": "code",
      "execution_count": 130,
      "id": "d0334160",
      "metadata": {
        "id": "d0334160"
      },
      "outputs": [],
      "source": [
        "class Transform(Interface, Database):\n",
        "\n",
        "    def __init__(self):\n",
        "        Database.__init__(self)\n",
        "\n",
        "    # should be implemented - inherited from Interface\n",
        "    def get_data_by_field(self, field_name):\n",
        "        data = self.get\n",
        "        for item in data:\n",
        "            for key, value in item.items():\n",
        "                if key == field_name:\n",
        "                    return item\n",
        "        return None\n",
        "\n",
        "    @property\n",
        "    def get(self):\n",
        "        return self.get_data_source_target_mapping.get(\"transform\", [])\n",
        "\n",
        "    def get_data_by_id(self, id):\n",
        "        self.id = id\n",
        "        data = self.get\n",
        "        for x in data:\n",
        "            if x.get(\"id\").__str__() == self.id.__str__():\n",
        "                return x\n",
        "        return None"
      ]
    },
    {
      "cell_type": "markdown",
      "id": "ac070eff",
      "metadata": {
        "id": "ac070eff"
      },
      "source": [
        "### Mapping class\n",
        "\n",
        "Inherited from Interface for the common methods and from Database for common variables"
      ]
    },
    {
      "cell_type": "code",
      "execution_count": 131,
      "id": "81f77956",
      "metadata": {
        "id": "81f77956"
      },
      "outputs": [],
      "source": [
        "class Mappings(Interface, Database):\n",
        "\n",
        "    def __init__(self):\n",
        "        Database.__init__(self)\n",
        "\n",
        "    @property\n",
        "    def get(self):\n",
        "        return self.get_data_source_target_mapping.get(\"mapping\")\n",
        "\n",
        "    def get_data_by_id(self, id):\n",
        "        self.id = id\n",
        "        data = self.get\n",
        "        for x in data:\n",
        "            if x.get(\"id\").__str__() == self.id.__str__():\n",
        "                return x\n",
        "        return None\n",
        "\n",
        "    def get_data_by_field(self, field_name):\n",
        "        return None"
      ]
    },
    {
      "cell_type": "markdown",
      "id": "09c8b877",
      "metadata": {
        "id": "09c8b877"
      },
      "source": [
        "### Format Class - JSON\n",
        "\n",
        "Search the source data value inside a JSON file"
      ]
    },
    {
      "cell_type": "code",
      "execution_count": 132,
      "id": "6bcee595",
      "metadata": {
        "id": "6bcee595"
      },
      "outputs": [],
      "source": [
        "class JsonQuery:\n",
        "    def __init__(self, json_path, json_data):\n",
        "        self.json_path = json_path\n",
        "        self.json_data = json_data\n",
        "\n",
        "    def get(self):\n",
        "        jsonpath_expression = parse(self.json_path)\n",
        "        match = jsonpath_expression.find(self.json_data)\n",
        "        source_data_value = match[0].value\n",
        "        return source_data_value"
      ]
    },
    {
      "cell_type": "markdown",
      "id": "c9b449d9",
      "metadata": {
        "id": "c9b449d9"
      },
      "source": [
        "### Combine it All - STTM"
      ]
    },
    {
      "cell_type": "code",
      "execution_count": 133,
      "id": "a1f47410",
      "metadata": {
        "id": "a1f47410"
      },
      "outputs": [],
      "source": [
        "class STTM:\n",
        "    def __init__(self, input_json):\n",
        "        self.input_json = input_json\n",
        "        self.mapping_instance = Mappings()\n",
        "        self.source_instance = Source()\n",
        "        self.destination_instance = Target()\n",
        "        self.transform_instance = Transform()\n",
        "        self.look_up_mask = {i.name: i.value for i in TransformMask}\n",
        "        self.json_data_transformed = {}\n",
        "        self.to_table = {}\n",
        "\n",
        "    def _get_mapping_data(self):\n",
        "        return self.mapping_instance.get\n",
        "\n",
        "    def _get_mapping_source_data(self):\n",
        "        return self.source_instance.get\n",
        "\n",
        "    def get_transformed_data(self):\n",
        "\n",
        "        for mappings in self._get_mapping_data():\n",
        "\n",
        "            \"\"\"fetch the source mapping \"\"\"\n",
        "            mapping_source_id = mappings.get(\"mapping_source\")\n",
        "            mapping_destination_id = mappings.get(\"mapping_destination\")\n",
        "            mapping_transform_id = mappings.get(\"mapping_transform\")\n",
        "            mapping_table = mappings.get(\"destination_table\")\n",
        "\n",
        "            mapping_source_data = self.source_instance.get_data_by_id(id=mapping_source_id)\n",
        "            transform_data = self.transform_instance.get_data_by_id(id=mapping_transform_id)\n",
        "\n",
        "            \"\"\"Fetch Source  field Name\"\"\"\n",
        "            source_field_name = mapping_source_data.get(\"source_field_name\")\n",
        "\n",
        "            \"\"\"if field given is not present incoming json \"\"\"\n",
        "            if source_field_name not in self.input_json.keys():\n",
        "                if mapping_source_data.get(\"is_required\"):\n",
        "                    raise Exception(\n",
        "                        \"Alert ! Field {} is not present in JSON please FIX mappings \".format(source_field_name))\n",
        "                else:\n",
        "                    pass\n",
        "\n",
        "            else:\n",
        "                source_data_value = JsonQuery(\n",
        "                    json_path=mapping_source_data.get(\"source_field_mapping\"),\n",
        "                    json_data=self.input_json\n",
        "                ).get()\n",
        "\n",
        "                \"\"\"check the data type for source if matches with what we have \"\"\"\n",
        "                if mapping_source_data.get(\"source_field_type\") != type(source_data_value).__name__:\n",
        "                    if source_data_value is not None:\n",
        "                        _message = (\n",
        "                            \"Alert ! Source Field :{} Datatype has changed from {} to {} \".format(source_field_name,\n",
        "                                                                                                  mapping_source_data.get(\n",
        "                                                                                                      \"source_field_type\"),\n",
        "                                                                                                  type(\n",
        "                                                                                                      source_data_value).__name__))\n",
        "                        print(_message)\n",
        "                        raise Exception(_message)\n",
        "\n",
        "                \"\"\"Query and fetch the Destination | target \"\"\"\n",
        "                destination_mappings_json_object = self.destination_instance.get_data_by_id(\n",
        "                    id=mappings.get(\"mapping_destination\"))\n",
        "\n",
        "                destination_field_name = destination_mappings_json_object.get(\"destination_field_name\")\n",
        "                destination_field_type = destination_mappings_json_object.get(\"destination_field_type\")\n",
        "                self.to_table[destination_field_name] = mapping_table\n",
        "\n",
        "                dtypes = [str, float, list, int, set, dict]\n",
        "\n",
        "                for dtype in dtypes:\n",
        "\n",
        "                    \"\"\"Datatype Conversion \"\"\"\n",
        "                    if destination_field_type == str(dtype.__name__):\n",
        "\n",
        "                        \"\"\"is source is none insert default value\"\"\"\n",
        "                        if source_data_value is None:\n",
        "                            self.json_data_transformed[destination_field_name] = dtype.__call__(\n",
        "                                destination_mappings_json_object.get(\"default_value\")\n",
        "                            )\n",
        "\n",
        "                        else:\n",
        "                            \"\"\"check if you have items to transform\"\"\"\n",
        "                            if transform_data is not None:\n",
        "                                \"\"\" check for invalid mask name \"\"\"\n",
        "                                if transform_data.get(\"transform_mask\") not in list(self.look_up_mask.keys()):\n",
        "                                    raise Exception(\n",
        "                                        f\"Specified Transform {transform_data.get('transform_mask')} is not available please select from following Options :{list(self.look_up_mask.keys())}\")\n",
        "                                else:\n",
        "                                    mask_apply = self.look_up_mask.get(transform_data.get(\"transform_mask\"))\n",
        "                                    converted_dtype = dtype.__call__(source_data_value)\n",
        "                                    mask = f'converted_dtype{mask_apply}'\n",
        "                                    curated_value = eval(mask)\n",
        "                                    self.json_data_transformed[destination_field_name] = curated_value\n",
        "\n",
        "                            else:\n",
        "                                self.json_data_transformed[destination_field_name] = dtype.__call__(source_data_value)\n",
        "\n",
        "        return self.json_data_transformed"
      ]
    },
    {
      "cell_type": "code",
      "execution_count": 134,
      "id": "054ea345",
      "metadata": {
        "id": "054ea345",
        "outputId": "0ced0a26-0a1b-4490-bfef-e488faacbe7f",
        "colab": {
          "base_uri": "https://localhost:8080/",
          "height": 375
        }
      },
      "outputs": [
        {
          "output_type": "error",
          "ename": "AttributeError",
          "evalue": "ignored",
          "traceback": [
            "\u001b[0;31m---------------------------------------------------------------------------\u001b[0m",
            "\u001b[0;31mAttributeError\u001b[0m                            Traceback (most recent call last)",
            "\u001b[0;32m<ipython-input-134-5ea339026ff0>\u001b[0m in \u001b[0;36m<cell line: 2>\u001b[0;34m()\u001b[0m\n\u001b[1;32m      2\u001b[0m \u001b[0;32mfor\u001b[0m \u001b[0mitem\u001b[0m \u001b[0;32min\u001b[0m \u001b[0mdata\u001b[0m\u001b[0;34m:\u001b[0m\u001b[0;34m\u001b[0m\u001b[0;34m\u001b[0m\u001b[0m\n\u001b[1;32m      3\u001b[0m     \u001b[0mhelper\u001b[0m \u001b[0;34m=\u001b[0m \u001b[0mSTTM\u001b[0m\u001b[0;34m(\u001b[0m\u001b[0minput_json\u001b[0m\u001b[0;34m=\u001b[0m\u001b[0mitem\u001b[0m\u001b[0;34m)\u001b[0m\u001b[0;34m\u001b[0m\u001b[0;34m\u001b[0m\u001b[0m\n\u001b[0;32m----> 4\u001b[0;31m     \u001b[0mresponse\u001b[0m \u001b[0;34m=\u001b[0m \u001b[0mhelper\u001b[0m\u001b[0;34m.\u001b[0m\u001b[0mget_transformed_data\u001b[0m\u001b[0;34m(\u001b[0m\u001b[0;34m)\u001b[0m\u001b[0;34m\u001b[0m\u001b[0;34m\u001b[0m\u001b[0m\n\u001b[0m\u001b[1;32m      5\u001b[0m     \u001b[0mtransformed_data\u001b[0m\u001b[0;34m.\u001b[0m\u001b[0mappend\u001b[0m\u001b[0;34m(\u001b[0m\u001b[0mresponse\u001b[0m\u001b[0;34m)\u001b[0m\u001b[0;34m\u001b[0m\u001b[0;34m\u001b[0m\u001b[0m\n\u001b[1;32m      6\u001b[0m     \u001b[0mprint\u001b[0m\u001b[0;34m(\u001b[0m\u001b[0mresponse\u001b[0m\u001b[0;34m)\u001b[0m\u001b[0;34m\u001b[0m\u001b[0;34m\u001b[0m\u001b[0m\n",
            "\u001b[0;32m<ipython-input-133-3bb6c2d2c3c0>\u001b[0m in \u001b[0;36mget_transformed_data\u001b[0;34m(self)\u001b[0m\n\u001b[1;32m     62\u001b[0m                     id=mappings.get(\"mapping_destination\"))\n\u001b[1;32m     63\u001b[0m \u001b[0;34m\u001b[0m\u001b[0m\n\u001b[0;32m---> 64\u001b[0;31m                 \u001b[0mdestination_field_name\u001b[0m \u001b[0;34m=\u001b[0m \u001b[0mdestination_mappings_json_object\u001b[0m\u001b[0;34m.\u001b[0m\u001b[0mget\u001b[0m\u001b[0;34m(\u001b[0m\u001b[0;34m\"destination_field_name\"\u001b[0m\u001b[0;34m)\u001b[0m\u001b[0;34m\u001b[0m\u001b[0;34m\u001b[0m\u001b[0m\n\u001b[0m\u001b[1;32m     65\u001b[0m                 \u001b[0mdestination_field_type\u001b[0m \u001b[0;34m=\u001b[0m \u001b[0mdestination_mappings_json_object\u001b[0m\u001b[0;34m.\u001b[0m\u001b[0mget\u001b[0m\u001b[0;34m(\u001b[0m\u001b[0;34m\"destination_field_type\"\u001b[0m\u001b[0;34m)\u001b[0m\u001b[0;34m\u001b[0m\u001b[0;34m\u001b[0m\u001b[0m\n\u001b[1;32m     66\u001b[0m                 \u001b[0mself\u001b[0m\u001b[0;34m.\u001b[0m\u001b[0mto_table\u001b[0m\u001b[0;34m[\u001b[0m\u001b[0mdestination_field_name\u001b[0m\u001b[0;34m]\u001b[0m \u001b[0;34m=\u001b[0m \u001b[0mmapping_table\u001b[0m\u001b[0;34m\u001b[0m\u001b[0;34m\u001b[0m\u001b[0m\n",
            "\u001b[0;31mAttributeError\u001b[0m: 'NoneType' object has no attribute 'get'"
          ]
        }
      ],
      "source": [
        "transformed_data = []\n",
        "for item in data:\n",
        "    helper = STTM(input_json=item)\n",
        "    response = helper.get_transformed_data()\n",
        "    transformed_data.append(response)\n",
        "    print(response)"
      ]
    },
    {
      "cell_type": "code",
      "source": [
        "mapping"
      ],
      "metadata": {
        "id": "sSThLh6KXT6U"
      },
      "id": "sSThLh6KXT6U",
      "execution_count": null,
      "outputs": []
    },
    {
      "cell_type": "code",
      "execution_count": null,
      "id": "2a9b3478",
      "metadata": {
        "id": "2a9b3478"
      },
      "outputs": [],
      "source": [
        "df = pd.DataFrame(transformed_data)\n",
        "#df.to_excel('A.xlsx')"
      ]
    },
    {
      "cell_type": "code",
      "source": [],
      "metadata": {
        "id": "o7I3gCP3BnbL"
      },
      "id": "o7I3gCP3BnbL",
      "execution_count": null,
      "outputs": []
    },
    {
      "cell_type": "code",
      "source": [],
      "metadata": {
        "id": "cMwHcBYFNVhx"
      },
      "id": "cMwHcBYFNVhx",
      "execution_count": null,
      "outputs": []
    },
    {
      "cell_type": "code",
      "source": [
        "aaa = {\n",
        "    \"A\": 2,\n",
        "    \"B\": 5\n",
        "}\n",
        "aaa"
      ],
      "metadata": {
        "id": "uY3B0AbpNVkI"
      },
      "id": "uY3B0AbpNVkI",
      "execution_count": null,
      "outputs": []
    },
    {
      "cell_type": "code",
      "source": [
        "aaa[\"C\"] = 7\n",
        "aaa"
      ],
      "metadata": {
        "id": "XFhnwc2lNfOn"
      },
      "id": "XFhnwc2lNfOn",
      "execution_count": null,
      "outputs": []
    },
    {
      "cell_type": "code",
      "source": [
        "aaa[\"B\"] = 10"
      ],
      "metadata": {
        "id": "kpPyHAbvNjIR"
      },
      "id": "kpPyHAbvNjIR",
      "execution_count": null,
      "outputs": []
    },
    {
      "cell_type": "code",
      "source": [
        "aaa"
      ],
      "metadata": {
        "id": "Zb7m5oSXNnhV"
      },
      "id": "Zb7m5oSXNnhV",
      "execution_count": null,
      "outputs": []
    },
    {
      "cell_type": "code",
      "source": [
        "aaa[\"B\"] = [5,10]\n",
        "aaa"
      ],
      "metadata": {
        "id": "p1F6MiCkNoKA"
      },
      "id": "p1F6MiCkNoKA",
      "execution_count": null,
      "outputs": []
    },
    {
      "cell_type": "code",
      "source": [],
      "metadata": {
        "id": "_XL8NpVqN9v1"
      },
      "id": "_XL8NpVqN9v1",
      "execution_count": null,
      "outputs": []
    }
  ],
  "metadata": {
    "kernelspec": {
      "display_name": "Python 3",
      "language": "python",
      "name": "python3"
    },
    "language_info": {
      "codemirror_mode": {
        "name": "ipython",
        "version": 3
      },
      "file_extension": ".py",
      "mimetype": "text/x-python",
      "name": "python",
      "nbconvert_exporter": "python",
      "pygments_lexer": "ipython3",
      "version": "3.8.8"
    },
    "colab": {
      "provenance": [],
      "include_colab_link": true
    }
  },
  "nbformat": 4,
  "nbformat_minor": 5
}